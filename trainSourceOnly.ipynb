{
 "cells": [
  {
   "cell_type": "code",
   "execution_count": 1,
   "id": "accompanied-corruption",
   "metadata": {},
   "outputs": [],
   "source": [
    "import torch\n",
    "import torchvision\n",
    "from torchvision import transforms\n",
    "from torchvision.datasets import ImageFolder\n",
    "from torch.utils.data import Dataset, DataLoader, Subset\n",
    "from PIL import Image\n",
    "import numpy as np\n",
    "import pandas as pd\n",
    "import random\n",
    "from torch.nn import functional as F\n",
    "import albumentations as A\n",
    "import cv2\n",
    "from albumentations.pytorch import ToTensorV2\n",
    "import torch.nn as nn\n",
    "import torch.nn.functional as F"
   ]
  },
  {
   "cell_type": "code",
   "execution_count": 2,
   "id": "numerical-client",
   "metadata": {},
   "outputs": [
    {
     "data": {
      "text/plain": [
       "{'fish_cod': 0,\n",
       " 'fish_commondab': 1,\n",
       " 'fish_greygurnard': 2,\n",
       " 'fish_haddock': 3,\n",
       " 'fish_hake': 4,\n",
       " 'fish_horsemackerel': 5,\n",
       " 'fish_longroughdab': 6,\n",
       " 'fish_mackerel': 7,\n",
       " 'fish_norwaypout': 8,\n",
       " 'fish_plaice': 9,\n",
       " 'fish_redgurnard': 10,\n",
       " 'fish_saithe': 11,\n",
       " 'fish_whiting': 12}"
      ]
     },
     "execution_count": 2,
     "metadata": {},
     "output_type": "execute_result"
    }
   ],
   "source": [
    "fh = open('research_fishes/summary.txt', 'r')\n",
    "label_index = []\n",
    "for index,line in enumerate(fh):\n",
    "    label_index.append((line.split()[0],index))\n",
    "label_indexs = dict(label_index)\n",
    "label_indexs"
   ]
  },
  {
   "cell_type": "code",
   "execution_count": 3,
   "id": "royal-prevention",
   "metadata": {},
   "outputs": [],
   "source": [
    "def generate_imgs_file(dir):\n",
    "    import glob\n",
    "    path_dic = []\n",
    "    for index,value in enumerate(label_indexs.keys()):\n",
    "        #print(type(i))\n",
    "        paths = glob.glob(dir + \"/*/\"+ value +\"/*.png\")\n",
    "\n",
    "        for path in paths:\n",
    "            path_dic.append([path,index])\n",
    "    \n",
    "    path_dic = pd.DataFrame(path_dic,columns = ['path','label'])\n",
    "    return path_dic"
   ]
  },
  {
   "cell_type": "code",
   "execution_count": 4,
   "id": "loved-fishing",
   "metadata": {},
   "outputs": [
    {
     "name": "stdout",
     "output_type": "stream",
     "text": [
      "(10057, 2)\n"
     ]
    },
    {
     "data": {
      "text/html": [
       "<div>\n",
       "<style scoped>\n",
       "    .dataframe tbody tr th:only-of-type {\n",
       "        vertical-align: middle;\n",
       "    }\n",
       "\n",
       "    .dataframe tbody tr th {\n",
       "        vertical-align: top;\n",
       "    }\n",
       "\n",
       "    .dataframe thead th {\n",
       "        text-align: right;\n",
       "    }\n",
       "</style>\n",
       "<table border=\"1\" class=\"dataframe\">\n",
       "  <thead>\n",
       "    <tr style=\"text-align: right;\">\n",
       "      <th></th>\n",
       "      <th>path</th>\n",
       "      <th>label</th>\n",
       "    </tr>\n",
       "  </thead>\n",
       "  <tbody>\n",
       "    <tr>\n",
       "      <th>0</th>\n",
       "      <td>commercial_fishes/fold_127/fish_cod/c3cc47ed-0...</td>\n",
       "      <td>0</td>\n",
       "    </tr>\n",
       "    <tr>\n",
       "      <th>1</th>\n",
       "      <td>commercial_fishes/fold_127/fish_cod/77e33edc-6...</td>\n",
       "      <td>0</td>\n",
       "    </tr>\n",
       "    <tr>\n",
       "      <th>2</th>\n",
       "      <td>commercial_fishes/fold_127/fish_cod/0158dd29-8...</td>\n",
       "      <td>0</td>\n",
       "    </tr>\n",
       "    <tr>\n",
       "      <th>3</th>\n",
       "      <td>commercial_fishes/fold_127/fish_cod/77e33edc-6...</td>\n",
       "      <td>0</td>\n",
       "    </tr>\n",
       "    <tr>\n",
       "      <th>4</th>\n",
       "      <td>commercial_fishes/fold_117/fish_cod/b19fca17-7...</td>\n",
       "      <td>0</td>\n",
       "    </tr>\n",
       "  </tbody>\n",
       "</table>\n",
       "</div>"
      ],
      "text/plain": [
       "                                                path  label\n",
       "0  commercial_fishes/fold_127/fish_cod/c3cc47ed-0...      0\n",
       "1  commercial_fishes/fold_127/fish_cod/77e33edc-6...      0\n",
       "2  commercial_fishes/fold_127/fish_cod/0158dd29-8...      0\n",
       "3  commercial_fishes/fold_127/fish_cod/77e33edc-6...      0\n",
       "4  commercial_fishes/fold_117/fish_cod/b19fca17-7...      0"
      ]
     },
     "execution_count": 4,
     "metadata": {},
     "output_type": "execute_result"
    }
   ],
   "source": [
    "path_dic = generate_imgs_file('commercial_fishes')\n",
    "print(path_dic.shape)\n",
    "path_dic.head()"
   ]
  },
  {
   "cell_type": "code",
   "execution_count": 5,
   "id": "adopted-sigma",
   "metadata": {},
   "outputs": [
    {
     "name": "stdout",
     "output_type": "stream",
     "text": [
      "(9620, 2)\n"
     ]
    },
    {
     "data": {
      "text/html": [
       "<div>\n",
       "<style scoped>\n",
       "    .dataframe tbody tr th:only-of-type {\n",
       "        vertical-align: middle;\n",
       "    }\n",
       "\n",
       "    .dataframe tbody tr th {\n",
       "        vertical-align: top;\n",
       "    }\n",
       "\n",
       "    .dataframe thead th {\n",
       "        text-align: right;\n",
       "    }\n",
       "</style>\n",
       "<table border=\"1\" class=\"dataframe\">\n",
       "  <thead>\n",
       "    <tr style=\"text-align: right;\">\n",
       "      <th></th>\n",
       "      <th>path</th>\n",
       "      <th>label</th>\n",
       "    </tr>\n",
       "  </thead>\n",
       "  <tbody>\n",
       "    <tr>\n",
       "      <th>0</th>\n",
       "      <td>research_fishes/fold_011/fish_cod/66488f15-aff...</td>\n",
       "      <td>0</td>\n",
       "    </tr>\n",
       "    <tr>\n",
       "      <th>1</th>\n",
       "      <td>research_fishes/fold_011/fish_cod/1fd0d098-70e...</td>\n",
       "      <td>0</td>\n",
       "    </tr>\n",
       "    <tr>\n",
       "      <th>2</th>\n",
       "      <td>research_fishes/fold_011/fish_cod/0fbd916b-ea0...</td>\n",
       "      <td>0</td>\n",
       "    </tr>\n",
       "    <tr>\n",
       "      <th>3</th>\n",
       "      <td>research_fishes/fold_011/fish_cod/1ee49e38-ec2...</td>\n",
       "      <td>0</td>\n",
       "    </tr>\n",
       "    <tr>\n",
       "      <th>4</th>\n",
       "      <td>research_fishes/fold_011/fish_cod/1ee49e38-ec2...</td>\n",
       "      <td>0</td>\n",
       "    </tr>\n",
       "  </tbody>\n",
       "</table>\n",
       "</div>"
      ],
      "text/plain": [
       "                                                path  label\n",
       "0  research_fishes/fold_011/fish_cod/66488f15-aff...      0\n",
       "1  research_fishes/fold_011/fish_cod/1fd0d098-70e...      0\n",
       "2  research_fishes/fold_011/fish_cod/0fbd916b-ea0...      0\n",
       "3  research_fishes/fold_011/fish_cod/1ee49e38-ec2...      0\n",
       "4  research_fishes/fold_011/fish_cod/1ee49e38-ec2...      0"
      ]
     },
     "execution_count": 5,
     "metadata": {},
     "output_type": "execute_result"
    }
   ],
   "source": [
    "path_dic2 = generate_imgs_file('research_fishes')\n",
    "print(path_dic2.shape)\n",
    "path_dic2.head()"
   ]
  },
  {
   "cell_type": "code",
   "execution_count": 6,
   "id": "cooked-canvas",
   "metadata": {},
   "outputs": [],
   "source": [
    "train_transform = A.Compose(\n",
    "    [\n",
    "        A.Affine(translate_px={\"x\":(-2,2),\"y\":(-2,2)}, scale = (0.75,1.333), rotate = 180, p = 0.5),\n",
    "        A.CoarseDropout(max_holes=1, max_height=90, max_width=90, min_holes=1,fill_value=64, p = 0.5),\n",
    "        A.GaussNoise(var_limit = (10,100), p = 0.5),\n",
    "        A.ColorJitter(brightness=0.4, contrast=0.4, saturation=0.4, hue=0.4,p=0.5),\n",
    "        A.Normalize(\n",
    "            mean=[0.485, 0.456, 0.406],\n",
    "            std=[0.229, 0.224, 0.225]),\n",
    "        \n",
    "        ToTensorV2()\n",
    "    ],\n",
    ")\n",
    "val_transform = A.Compose(\n",
    "    [\n",
    "        A.Normalize(\n",
    "            mean=[0.485, 0.456, 0.406],\n",
    "            std=[0.229, 0.224, 0.225]),\n",
    "        ToTensorV2()\n",
    "    ],\n",
    ")"
   ]
  },
  {
   "cell_type": "code",
   "execution_count": 7,
   "id": "consolidated-envelope",
   "metadata": {},
   "outputs": [],
   "source": [
    "class MyDataset(Dataset): \n",
    "    def __init__(self, path_dic, transform=None):\n",
    "\n",
    "        self.imgs = list(path_dic.to_records(index=False))\n",
    "        self.transform = transform\n",
    "        \n",
    "    def __getitem__(self, index):\n",
    "        path, label = self.imgs[index]\n",
    "        \n",
    "        img = cv2.imread(path)\n",
    "        img = cv2.cvtColor(img, cv2.COLOR_BGR2RGB)\n",
    "        \n",
    "        if self.transform is not None:\n",
    "            img = self.transform(image=img)[\"image\"]\n",
    "\n",
    "        return img,label\n",
    "    \n",
    "    def __len__(self):\n",
    "        return len(self.imgs)"
   ]
  },
  {
   "cell_type": "code",
   "execution_count": 9,
   "id": "smart-scheduling",
   "metadata": {},
   "outputs": [],
   "source": [
    "# val_sour_size = 2000\n",
    "# num_sour_train = len(path_dic)\n",
    "# sour_indices = list(range(num_sour_train))\n",
    "# #split_ratio = 0.8\n",
    "# #split = int(np.floor(train_size * num_train))\n",
    "# np.random.shuffle(sour_indices)\n",
    "# train_sour_idx, valid_sour_idx = sour_indices[val_sour_size:], sour_indices[:val_sour_size]\n",
    "# train_sour_idx = np.load('train_sour_idx.npy')\n",
    "# valid_sour_idx = np.load('valid_sour_idx.npy')\n",
    "\n",
    "train_sour_idx = np.load('train_targ_idx.npy')\n",
    "valid_sour_idx = np.load('valid_targ_idx.npy')"
   ]
  },
  {
   "cell_type": "code",
   "execution_count": 10,
   "id": "facial-mountain",
   "metadata": {},
   "outputs": [],
   "source": [
    "train_dataset = MyDataset(path_dic, transform = train_transform)\n",
    "train_dataset2 = MyDataset(path_dic, transform = val_transform)\n",
    "val_dataset = MyDataset(path_dic2, transform = val_transform)"
   ]
  },
  {
   "cell_type": "code",
   "execution_count": 11,
   "id": "funded-clone",
   "metadata": {},
   "outputs": [
    {
     "name": "stderr",
     "output_type": "stream",
     "text": [
      "Clipping input data to the valid range for imshow with RGB data ([0..1] for floats or [0..255] for integers).\n"
     ]
    },
    {
     "data": {
      "text/plain": [
       "<matplotlib.image.AxesImage at 0x2b2b857b9e50>"
      ]
     },
     "execution_count": 11,
     "metadata": {},
     "output_type": "execute_result"
    },
    {
     "data": {
      "image/png": "[encoded data removed]",
      "text/plain": [
       "<Figure size 432x288 with 1 Axes>"
      ]
     },
     "metadata": {
      "needs_background": "light"
     },
     "output_type": "display_data"
    }
   ],
   "source": [
    "import matplotlib.pyplot as plt\n",
    "plt.imshow(train_dataset[14][0].permute(1,2,0))"
   ]
  },
  {
   "cell_type": "code",
   "execution_count": 12,
   "id": "technological-wayne",
   "metadata": {},
   "outputs": [
    {
     "name": "stderr",
     "output_type": "stream",
     "text": [
      "Clipping input data to the valid range for imshow with RGB data ([0..1] for floats or [0..255] for integers).\n"
     ]
    },
    {
     "data": {
      "text/plain": [
       "<matplotlib.image.AxesImage at 0x2b2b858a1cd0>"
      ]
     },
     "execution_count": 12,
     "metadata": {},
     "output_type": "execute_result"
    },
    {
     "data": {
      "image/png": "[encoded data removed]",
      "text/plain": [
       "<Figure size 432x288 with 1 Axes>"
      ]
     },
     "metadata": {
      "needs_background": "light"
     },
     "output_type": "display_data"
    }
   ],
   "source": [
    "plt.imshow(val_dataset[13][0].permute(1, 2, 0))"
   ]
  },
  {
   "cell_type": "code",
   "execution_count": 13,
   "id": "headed-removal",
   "metadata": {},
   "outputs": [],
   "source": [
    "train_dataset = Subset(train_dataset, indices=train_sour_idx)\n",
    "train_dataset2 = Subset(train_dataset2, indices=valid_sour_idx)"
   ]
  },
  {
   "cell_type": "code",
   "execution_count": 14,
   "id": "reasonable-genealogy",
   "metadata": {},
   "outputs": [],
   "source": [
    "def getSampler(labels):\n",
    "    class_sample_count = np.unique(labels, return_counts=True)[1]\n",
    "    class_weights = 1./torch.tensor(class_sample_count, dtype=torch.float) \n",
    "    class_weights_all = class_weights[labels]\n",
    "    sampler = torch.utils.data.sampler.WeightedRandomSampler(\n",
    "    weights=class_weights_all,\n",
    "    num_samples=len(class_weights_all),\n",
    "    replacement=True\n",
    "    )\n",
    "    return sampler"
   ]
  },
  {
   "cell_type": "code",
   "execution_count": 15,
   "id": "round-stations",
   "metadata": {},
   "outputs": [],
   "source": [
    "sour_train_labels = []\n",
    "for train_index in train_dataset.indices:\n",
    "    sour_train_labels.append(train_dataset.dataset.imgs[train_index][1])\n",
    "sour_train_labels = torch.tensor(sour_train_labels)\n",
    "sour_sampler = getSampler(sour_train_labels)"
   ]
  },
  {
   "cell_type": "code",
   "execution_count": 16,
   "id": "deadly-airport",
   "metadata": {},
   "outputs": [],
   "source": [
    "sour_train_dl = DataLoader(train_dataset, shuffle=False, batch_size=80, sampler=sour_sampler, num_workers = 4, pin_memory = True)\n",
    "sour_val_dl = DataLoader(train_dataset2, batch_size=64, num_workers = 4, pin_memory = True)\n",
    "targ_train_dl = DataLoader(val_dataset, batch_size=64, num_workers = 4, pin_memory = True)"
   ]
  },
  {
   "cell_type": "code",
   "execution_count": 17,
   "id": "common-leather",
   "metadata": {},
   "outputs": [],
   "source": [
    "student = torchvision.models.resnet152(pretrained=True)\n",
    "student.fc = nn.Sequential(\n",
    "            nn.Linear(2048,1024),\n",
    "            nn.ReLU(),\n",
    "            nn.Linear(1024, 1024),\n",
    "            nn.ReLU(),\n",
    "            nn.Linear(1024,13)\n",
    ")"
   ]
  },
  {
   "cell_type": "code",
   "execution_count": 18,
   "id": "legislative-grove",
   "metadata": {},
   "outputs": [],
   "source": [
    "def get_default_device():\n",
    "    \"\"\" Set Device to GPU or CPU\"\"\"\n",
    "    if torch.cuda.is_available():\n",
    "        return torch.device('cuda')\n",
    "    else:\n",
    "        return torch.device('cpu')\n",
    "    \n",
    "\n",
    "def to_device(data, device):\n",
    "    \"Move data to the device\"\n",
    "    if isinstance(data,(list,tuple)):\n",
    "        return [to_device(x,device) for x in data]\n",
    "    return data.to(device,non_blocking = True)\n",
    "\n",
    "class DeviceDataLoader():\n",
    "    \"\"\" Wrap a dataloader to move data to a device \"\"\"\n",
    "    \n",
    "    def __init__(self, dl, device):\n",
    "        self.dl = dl\n",
    "        self.device = device\n",
    "    \n",
    "    def __iter__(self):\n",
    "        \"\"\" Yield a batch of data after moving it to device\"\"\"\n",
    "        for b in self.dl:\n",
    "            yield to_device(b,self.device)\n",
    "            \n",
    "    def __len__(self):\n",
    "        \"\"\" Number of batches \"\"\"\n",
    "        return len(self.dl)\n",
    "    "
   ]
  },
  {
   "cell_type": "code",
   "execution_count": 19,
   "id": "creative-calvin",
   "metadata": {},
   "outputs": [
    {
     "data": {
      "text/plain": [
       "device(type='cuda')"
      ]
     },
     "execution_count": 19,
     "metadata": {},
     "output_type": "execute_result"
    }
   ],
   "source": [
    "device = get_default_device()\n",
    "device"
   ]
  },
  {
   "cell_type": "code",
   "execution_count": 24,
   "id": "willing-easter",
   "metadata": {},
   "outputs": [],
   "source": [
    "student = to_device(student, device)"
   ]
  },
  {
   "cell_type": "code",
   "execution_count": 25,
   "id": "hollywood-soundtrack",
   "metadata": {},
   "outputs": [],
   "source": [
    "sour_train_dl = DeviceDataLoader(sour_train_dl, device)\n",
    "targ_train_dl = DeviceDataLoader(targ_train_dl, device)\n",
    "sour_val_dl = DeviceDataLoader(sour_val_dl, device)"
   ]
  },
  {
   "cell_type": "code",
   "execution_count": 26,
   "id": "executive-swing",
   "metadata": {},
   "outputs": [
    {
     "name": "stdout",
     "output_type": "stream",
     "text": [
      "resnet 152 pretrain learning rate 10-5, 4 data arugementa CutOut 90*90\n"
     ]
    }
   ],
   "source": [
    "log_file = \"log/trainTargetOnly_logfile_04\"\n",
    "def logfile(text):\n",
    "    print(text)\n",
    "    if log_file is not None:\n",
    "        with open(log_file, 'a') as f:\n",
    "            f.write(text + '\\n')\n",
    "            f.flush()\n",
    "            f.close()\n",
    "logfile(\"resnet 152 pretrain learning rate 10-5, 4 data arugementa CutOut 90*90\")"
   ]
  },
  {
   "cell_type": "code",
   "execution_count": 27,
   "id": "sweet-shock",
   "metadata": {},
   "outputs": [],
   "source": [
    "@torch.no_grad()\n",
    "def train_pred(X_sup):\n",
    "    student.eval()\n",
    "    #return F.softmax(student(X_sup), dim=1).detach().cpu().numpy()\n",
    "    return student(X_sup)\n",
    "\n",
    "@torch.no_grad()\n",
    "def f_eval_src(val_dl,num):\n",
    "\n",
    "    stu_num = 0\n",
    "    for X_sup, y_sup in val_dl:\n",
    "\n",
    "        y_pred_prob_stu = train_pred(X_sup)\n",
    "        #y_pred_stu = np.argmax(y_pred_prob_stu, axis=1)\n",
    "        _, y_pred_stu = torch.max(y_pred_prob_stu, dim=1)\n",
    "        \n",
    "        stu_num += torch.tensor(torch.sum(y_pred_stu != y_sup).item())\n",
    "        #float((y_pred_stu != y_sup.cpu().numpy()).sum())\n",
    "    return stu_num/num"
   ]
  },
  {
   "cell_type": "code",
   "execution_count": 28,
   "id": "nonprofit-ability",
   "metadata": {},
   "outputs": [
    {
     "name": "stdout",
     "output_type": "stream",
     "text": [
      "Epoch 0 took 159.66s: TRAIN clf loss=2.431443,source dataset student ERR=85.350001%, target dataset student ERR=76.548856%,\n",
      "Epoch 1 took 129.60s: TRAIN clf loss=1.597366,source dataset student ERR=64.050001%, target dataset student ERR=56.330562%,\n",
      "Epoch 2 took 125.27s: TRAIN clf loss=0.978871,source dataset student ERR=50.449997%, target dataset student ERR=55.218297%,\n",
      "Epoch 3 took 128.40s: TRAIN clf loss=0.734106,source dataset student ERR=34.950000%, target dataset student ERR=47.692308%,\n",
      "Epoch 4 took 131.50s: TRAIN clf loss=0.593250,source dataset student ERR=33.649999%, target dataset student ERR=44.844076%,\n",
      "Epoch 5 took 130.06s: TRAIN clf loss=0.531110,source dataset student ERR=31.150001%, target dataset student ERR=41.600832%,\n",
      "Epoch 6 took 130.14s: TRAIN clf loss=0.475202,source dataset student ERR=29.949999%, target dataset student ERR=41.465697%,\n",
      "Epoch 7 took 128.53s: TRAIN clf loss=0.419193,source dataset student ERR=23.100001%, target dataset student ERR=39.459458%,\n",
      "Epoch 8 took 128.84s: TRAIN clf loss=0.389915,source dataset student ERR=25.049999%, target dataset student ERR=36.424115%,\n",
      "Epoch 9 took 127.95s: TRAIN clf loss=0.355684,source dataset student ERR=21.799999%, target dataset student ERR=36.683992%,\n",
      "Epoch 10 took 127.51s: TRAIN clf loss=0.334264,source dataset student ERR=25.099999%, target dataset student ERR=37.328482%,\n",
      "Epoch 11 took 124.61s: TRAIN clf loss=0.298150,source dataset student ERR=18.750000%, target dataset student ERR=36.143452%,\n",
      "Epoch 12 took 128.10s: TRAIN clf loss=0.287084,source dataset student ERR=18.500000%, target dataset student ERR=34.085238%,\n",
      "Epoch 13 took 127.30s: TRAIN clf loss=0.271124,source dataset student ERR=17.649999%, target dataset student ERR=35.592514%,\n",
      "Epoch 14 took 126.89s: TRAIN clf loss=0.264173,source dataset student ERR=18.700001%, target dataset student ERR=36.216217%,\n",
      "Epoch 15 took 125.75s: TRAIN clf loss=0.253193,source dataset student ERR=18.950000%, target dataset student ERR=34.708941%,\n",
      "Epoch 16 took 127.39s: TRAIN clf loss=0.219719,source dataset student ERR=17.950000%, target dataset student ERR=35.072765%,\n",
      "Epoch 17 took 126.74s: TRAIN clf loss=0.225638,source dataset student ERR=18.900000%, target dataset student ERR=33.575884%,\n",
      "Epoch 18 took 126.74s: TRAIN clf loss=0.220568,source dataset student ERR=16.700000%, target dataset student ERR=33.419958%,\n",
      "Epoch 19 took 128.21s: TRAIN clf loss=0.205853,source dataset student ERR=19.800000%, target dataset student ERR=33.534303%,\n",
      "Epoch 20 took 126.39s: TRAIN clf loss=0.187443,source dataset student ERR=18.050000%, target dataset student ERR=35.259876%,\n",
      "Epoch 21 took 127.19s: TRAIN clf loss=0.185766,source dataset student ERR=15.549999%, target dataset student ERR=34.293139%,\n",
      "Epoch 22 took 128.19s: TRAIN clf loss=0.174849,source dataset student ERR=14.800000%, target dataset student ERR=35.769230%,\n",
      "Epoch 23 took 126.65s: TRAIN clf loss=0.178743,source dataset student ERR=15.950000%, target dataset student ERR=34.116423%,\n",
      "Epoch 24 took 141.03s: TRAIN clf loss=0.170488,source dataset student ERR=14.749999%, target dataset student ERR=36.860707%,\n",
      "Epoch 25 took 138.46s: TRAIN clf loss=0.157918,source dataset student ERR=15.899999%, target dataset student ERR=36.268193%,\n",
      "Epoch 26 took 138.47s: TRAIN clf loss=0.161478,source dataset student ERR=15.500000%, target dataset student ERR=35.332641%,\n",
      "Epoch 27 took 137.21s: TRAIN clf loss=0.135654,source dataset student ERR=14.049999%, target dataset student ERR=40.124741%,\n",
      "Epoch 28 took 143.79s: TRAIN clf loss=0.147821,source dataset student ERR=14.000000%, target dataset student ERR=40.103951%,\n",
      "Epoch 29 took 138.02s: TRAIN clf loss=0.140226,source dataset student ERR=15.899999%, target dataset student ERR=37.068608%,\n",
      "Epoch 30 took 137.35s: TRAIN clf loss=0.136886,source dataset student ERR=14.500000%, target dataset student ERR=35.748440%,\n",
      "Epoch 31 took 139.64s: TRAIN clf loss=0.132984,source dataset student ERR=13.750000%, target dataset student ERR=39.760914%,\n",
      "Epoch 32 took 130.78s: TRAIN clf loss=0.130203,source dataset student ERR=14.550000%, target dataset student ERR=35.498962%,\n",
      "Epoch 33 took 141.17s: TRAIN clf loss=0.110314,source dataset student ERR=14.749999%, target dataset student ERR=35.498962%,\n",
      "Epoch 34 took 138.66s: TRAIN clf loss=0.113057,source dataset student ERR=14.700000%, target dataset student ERR=34.397089%,\n",
      "Epoch 35 took 140.86s: TRAIN clf loss=0.117956,source dataset student ERR=14.650001%, target dataset student ERR=41.060290%,\n",
      "Epoch 36 took 136.39s: TRAIN clf loss=0.107656,source dataset student ERR=14.250000%, target dataset student ERR=37.577963%,\n",
      "Epoch 37 took 139.34s: TRAIN clf loss=0.109481,source dataset student ERR=14.500000%, target dataset student ERR=37.702703%,\n",
      "Epoch 38 took 140.47s: TRAIN clf loss=0.112279,source dataset student ERR=14.749999%, target dataset student ERR=37.338877%,\n",
      "Epoch 39 took 143.68s: TRAIN clf loss=0.116735,source dataset student ERR=14.200000%, target dataset student ERR=36.663201%,\n",
      "Epoch 40 took 143.23s: TRAIN clf loss=0.100720,source dataset student ERR=15.000001%, target dataset student ERR=35.904366%,\n",
      "Epoch 41 took 140.27s: TRAIN clf loss=0.095540,source dataset student ERR=14.150000%, target dataset student ERR=37.162161%,\n",
      "Epoch 42 took 142.57s: TRAIN clf loss=0.104320,source dataset student ERR=13.450000%, target dataset student ERR=37.920997%,\n",
      "Epoch 43 took 143.66s: TRAIN clf loss=0.090636,source dataset student ERR=14.100000%, target dataset student ERR=38.336799%,\n",
      "Epoch 44 took 137.34s: TRAIN clf loss=0.087309,source dataset student ERR=13.800000%, target dataset student ERR=38.939708%,\n",
      "Epoch 45 took 140.53s: TRAIN clf loss=0.090227,source dataset student ERR=14.450000%, target dataset student ERR=39.937630%,\n",
      "Epoch 46 took 141.66s: TRAIN clf loss=0.086849,source dataset student ERR=13.699999%, target dataset student ERR=38.305613%,\n",
      "Epoch 47 took 135.49s: TRAIN clf loss=0.098883,source dataset student ERR=14.000000%, target dataset student ERR=37.079003%,\n",
      "Epoch 48 took 137.83s: TRAIN clf loss=0.086848,source dataset student ERR=13.450000%, target dataset student ERR=38.523909%,\n",
      "Epoch 49 took 135.10s: TRAIN clf loss=0.092681,source dataset student ERR=13.699999%, target dataset student ERR=43.128899%,\n",
      "Epoch 50 took 136.86s: TRAIN clf loss=0.093239,source dataset student ERR=13.850001%, target dataset student ERR=40.571725%,\n",
      "Epoch 51 took 137.21s: TRAIN clf loss=0.088081,source dataset student ERR=13.550000%, target dataset student ERR=43.160084%,\n",
      "Epoch 52 took 142.94s: TRAIN clf loss=0.082188,source dataset student ERR=13.450000%, target dataset student ERR=37.744284%,\n",
      "Epoch 53 took 146.33s: TRAIN clf loss=0.077285,source dataset student ERR=14.450000%, target dataset student ERR=38.742203%,\n",
      "Epoch 54 took 142.38s: TRAIN clf loss=0.081203,source dataset student ERR=13.450000%, target dataset student ERR=42.172557%,\n",
      "Epoch 55 took 141.91s: TRAIN clf loss=0.082898,source dataset student ERR=13.550000%, target dataset student ERR=41.112265%,\n",
      "Epoch 56 took 142.12s: TRAIN clf loss=0.073825,source dataset student ERR=13.200000%, target dataset student ERR=35.945946%,\n",
      "Epoch 57 took 142.39s: TRAIN clf loss=0.080457,source dataset student ERR=13.249999%, target dataset student ERR=41.039500%,\n",
      "Epoch 58 took 144.10s: TRAIN clf loss=0.067598,source dataset student ERR=13.150001%, target dataset student ERR=39.833680%,\n",
      "Epoch 59 took 146.46s: TRAIN clf loss=0.073131,source dataset student ERR=13.300000%, target dataset student ERR=39.168400%,\n",
      "Epoch 60 took 140.67s: TRAIN clf loss=0.077636,source dataset student ERR=13.600001%, target dataset student ERR=44.854471%,\n",
      "Epoch 61 took 144.47s: TRAIN clf loss=0.067718,source dataset student ERR=14.049999%, target dataset student ERR=43.274429%,\n",
      "Epoch 62 took 142.80s: TRAIN clf loss=0.066208,source dataset student ERR=13.600001%, target dataset student ERR=41.205820%,\n",
      "Epoch 63 took 136.57s: TRAIN clf loss=0.063735,source dataset student ERR=14.100000%, target dataset student ERR=40.010396%,\n",
      "Epoch 64 took 146.10s: TRAIN clf loss=0.067722,source dataset student ERR=14.100000%, target dataset student ERR=39.688149%,\n",
      "Epoch 65 took 143.26s: TRAIN clf loss=0.072580,source dataset student ERR=13.249999%, target dataset student ERR=41.621622%,\n",
      "Epoch 66 took 134.79s: TRAIN clf loss=0.065681,source dataset student ERR=13.800000%, target dataset student ERR=40.259874%,\n",
      "Epoch 67 took 140.11s: TRAIN clf loss=0.057003,source dataset student ERR=14.600000%, target dataset student ERR=38.367984%,\n",
      "Epoch 68 took 145.19s: TRAIN clf loss=0.059728,source dataset student ERR=13.850001%, target dataset student ERR=44.054055%,\n",
      "Epoch 69 took 138.60s: TRAIN clf loss=0.059673,source dataset student ERR=14.300001%, target dataset student ERR=42.775467%,\n",
      "Epoch 70 took 140.66s: TRAIN clf loss=0.061525,source dataset student ERR=13.600001%, target dataset student ERR=43.347195%,\n",
      "Epoch 71 took 139.26s: TRAIN clf loss=0.057241,source dataset student ERR=14.250000%, target dataset student ERR=38.752598%,\n",
      "Epoch 72 took 143.09s: TRAIN clf loss=0.068327,source dataset student ERR=13.800000%, target dataset student ERR=39.251560%,\n",
      "Epoch 73 took 136.98s: TRAIN clf loss=0.057479,source dataset student ERR=13.699999%, target dataset student ERR=42.068607%,\n",
      "Epoch 74 took 139.65s: TRAIN clf loss=0.051124,source dataset student ERR=14.350000%, target dataset student ERR=42.629936%,\n",
      "Epoch 75 took 143.10s: TRAIN clf loss=0.053278,source dataset student ERR=13.050000%, target dataset student ERR=41.216215%,\n",
      "Epoch 76 took 141.49s: TRAIN clf loss=0.055237,source dataset student ERR=13.500001%, target dataset student ERR=40.519750%,\n",
      "Epoch 77 took 140.80s: TRAIN clf loss=0.055778,source dataset student ERR=13.600001%, target dataset student ERR=45.239085%,\n",
      "Epoch 78 took 133.21s: TRAIN clf loss=0.059577,source dataset student ERR=13.500001%, target dataset student ERR=38.835758%,\n",
      "Epoch 79 took 136.22s: TRAIN clf loss=0.049574,source dataset student ERR=14.150000%, target dataset student ERR=42.234927%,\n",
      "Epoch 80 took 141.42s: TRAIN clf loss=0.048571,source dataset student ERR=13.850001%, target dataset student ERR=45.904365%,\n",
      "Epoch 81 took 143.15s: TRAIN clf loss=0.046807,source dataset student ERR=13.950001%, target dataset student ERR=40.623701%,\n",
      "Epoch 82 took 143.09s: TRAIN clf loss=0.047657,source dataset student ERR=13.550000%, target dataset student ERR=40.790021%,\n",
      "Epoch 83 took 147.00s: TRAIN clf loss=0.047293,source dataset student ERR=13.249999%, target dataset student ERR=41.392931%,\n",
      "Epoch 84 took 139.67s: TRAIN clf loss=0.050784,source dataset student ERR=13.800000%, target dataset student ERR=43.045738%,\n",
      "Epoch 85 took 140.12s: TRAIN clf loss=0.049240,source dataset student ERR=13.850001%, target dataset student ERR=40.634096%,\n",
      "Epoch 86 took 141.35s: TRAIN clf loss=0.044258,source dataset student ERR=13.950001%, target dataset student ERR=45.779625%,\n",
      "Epoch 87 took 139.09s: TRAIN clf loss=0.050266,source dataset student ERR=14.150000%, target dataset student ERR=44.313928%,\n",
      "Epoch 88 took 142.66s: TRAIN clf loss=0.049812,source dataset student ERR=13.400000%, target dataset student ERR=44.106030%,\n",
      "Epoch 89 took 136.67s: TRAIN clf loss=0.050143,source dataset student ERR=13.699999%, target dataset student ERR=40.893972%,\n",
      "Epoch 90 took 141.40s: TRAIN clf loss=0.050531,source dataset student ERR=14.000000%, target dataset student ERR=38.367984%,\n",
      "Epoch 91 took 136.44s: TRAIN clf loss=0.048966,source dataset student ERR=13.750000%, target dataset student ERR=41.247401%,\n",
      "Epoch 92 took 142.74s: TRAIN clf loss=0.044263,source dataset student ERR=14.100000%, target dataset student ERR=40.561330%,\n",
      "Epoch 93 took 140.96s: TRAIN clf loss=0.038209,source dataset student ERR=12.800001%, target dataset student ERR=48.253638%,\n",
      "Epoch 94 took 136.11s: TRAIN clf loss=0.048521,source dataset student ERR=13.500001%, target dataset student ERR=42.463619%,\n",
      "Epoch 95 took 138.72s: TRAIN clf loss=0.052708,source dataset student ERR=14.600000%, target dataset student ERR=42.629936%,\n",
      "Epoch 96 took 140.07s: TRAIN clf loss=0.041088,source dataset student ERR=13.800000%, target dataset student ERR=44.563410%,\n",
      "Epoch 97 took 137.22s: TRAIN clf loss=0.043119,source dataset student ERR=14.450000%, target dataset student ERR=45.831600%,\n",
      "Epoch 98 took 140.03s: TRAIN clf loss=0.038044,source dataset student ERR=13.850001%, target dataset student ERR=45.654887%,\n",
      "Epoch 99 took 138.26s: TRAIN clf loss=0.040903,source dataset student ERR=13.400000%, target dataset student ERR=43.503118%,\n",
      "Epoch 100 took 135.77s: TRAIN clf loss=0.043090,source dataset student ERR=14.000000%, target dataset student ERR=37.713099%,\n"
     ]
    }
   ],
   "source": [
    "epochs = 101\n",
    "opt_func = torch.optim.Adam\n",
    "lr = 0.00001\n",
    "\n",
    "optimizer = opt_func(student.parameters(),lr)\n",
    "\n",
    "import time\n",
    "\n",
    "loss_his1 = []\n",
    "\n",
    "log=[]\n",
    "log1=[]\n",
    "\n",
    "for epoch in range(epochs):\n",
    "\n",
    "    t1 = time.time()\n",
    "    \n",
    "    student.train()\n",
    "    train_losses = []\n",
    "    conf_mask_counts = 0\n",
    "    \n",
    "    for batch in sour_train_dl:\n",
    "        \n",
    "        X_src, y_src = batch\n",
    "        src_logits_out = student(X_src)\n",
    "        loss = F.cross_entropy(src_logits_out, y_src)\n",
    "        \n",
    "        train_losses.append(loss)\n",
    "        \n",
    "        loss.backward()\n",
    "        optimizer.step()\n",
    "        optimizer.zero_grad()\n",
    "\n",
    "    \n",
    "    log.append(f_eval_src(targ_train_dl,len(val_dataset)))\n",
    "    log1.append(f_eval_src(sour_val_dl,len(train_dataset2)))\n",
    "\n",
    "    loss_his1.append(torch.stack(train_losses).mean().item())\n",
    "    \n",
    "    t2 = time.time()\n",
    "                                                 \n",
    "    logfile('Epoch {} took {:.2f}s: TRAIN clf loss={:.6f},'\n",
    "        'source dataset student ERR={:.6%}, target dataset student ERR={:.6%},'.format(\n",
    "         epoch, t2 - t1, loss_his1[epoch], log1[epoch], log[epoch]))                                             \n",
    "    \n",
    "    if epoch%20 == 0 and epoch != 0:\n",
    "        model_name = \"modelParameter/TrainTargetOnly04/TrainTargetOnly04_epoch\" + str(epoch)\n",
    "        torch.save(student.state_dict(), model_name)"
   ]
  },
  {
   "cell_type": "code",
   "execution_count": null,
   "id": "funky-assault",
   "metadata": {},
   "outputs": [],
   "source": []
  },
  {
   "cell_type": "code",
   "execution_count": null,
   "id": "minor-shade",
   "metadata": {},
   "outputs": [],
   "source": []
  },
  {
   "cell_type": "code",
   "execution_count": null,
   "id": "alpha-austin",
   "metadata": {},
   "outputs": [],
   "source": []
  },
  {
   "cell_type": "code",
   "execution_count": null,
   "id": "signed-cholesterol",
   "metadata": {},
   "outputs": [],
   "source": []
  },
  {
   "cell_type": "code",
   "execution_count": null,
   "id": "focused-memorial",
   "metadata": {},
   "outputs": [],
   "source": []
  },
  {
   "cell_type": "code",
   "execution_count": null,
   "id": "improving-stuart",
   "metadata": {},
   "outputs": [],
   "source": []
  }
 ],
 "metadata": {
  "kernelspec": {
   "display_name": "Python 3",
   "language": "python",
   "name": "python3"
  },
  "language_info": {
   "codemirror_mode": {
    "name": "ipython",
    "version": 3
   },
   "file_extension": ".py",
   "mimetype": "text/x-python",
   "name": "python",
   "nbconvert_exporter": "python",
   "pygments_lexer": "ipython3",
   "version": "3.7.3"
  }
 },
 "nbformat": 4,
 "nbformat_minor": 5
}
