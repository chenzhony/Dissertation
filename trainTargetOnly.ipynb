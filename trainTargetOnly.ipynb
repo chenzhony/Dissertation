{
 "cells": [
  {
   "cell_type": "code",
   "execution_count": 1,
   "id": "sized-evanescence",
   "metadata": {},
   "outputs": [],
   "source": [
    "import torch\n",
    "import torchvision\n",
    "from torchvision import transforms\n",
    "from torchvision.datasets import ImageFolder\n",
    "from torch.utils.data import Dataset, DataLoader, Subset\n",
    "from PIL import Image\n",
    "import numpy as np\n",
    "import pandas as pd\n",
    "import random\n",
    "from torch.nn import functional as F\n",
    "import albumentations as A\n",
    "import cv2\n",
    "from albumentations.pytorch import ToTensorV2"
   ]
  },
  {
   "cell_type": "code",
   "execution_count": 2,
   "id": "missing-annex",
   "metadata": {},
   "outputs": [
    {
     "data": {
      "text/plain": [
       "{'fish_cod': 0,\n",
       " 'fish_commondab': 1,\n",
       " 'fish_greygurnard': 2,\n",
       " 'fish_haddock': 3,\n",
       " 'fish_hake': 4,\n",
       " 'fish_horsemackerel': 5,\n",
       " 'fish_longroughdab': 6,\n",
       " 'fish_mackerel': 7,\n",
       " 'fish_norwaypout': 8,\n",
       " 'fish_plaice': 9,\n",
       " 'fish_redgurnard': 10,\n",
       " 'fish_saithe': 11,\n",
       " 'fish_whiting': 12}"
      ]
     },
     "execution_count": 2,
     "metadata": {},
     "output_type": "execute_result"
    }
   ],
   "source": [
    "fh = open('research_fishes/summary.txt', 'r')\n",
    "label_index = []\n",
    "for index,line in enumerate(fh):\n",
    "    label_index.append((line.split()[0],index))\n",
    "label_indexs = dict(label_index)\n",
    "label_indexs"
   ]
  },
  {
   "cell_type": "code",
   "execution_count": 3,
   "id": "liked-criticism",
   "metadata": {},
   "outputs": [],
   "source": [
    "def generate_imgs_file(dir):\n",
    "    import glob\n",
    "    path_dic = []\n",
    "    for index,value in enumerate(label_indexs.keys()):\n",
    "        #print(type(i))\n",
    "        paths = glob.glob(dir + \"/*/\"+ value +\"/*.png\")\n",
    "\n",
    "        for path in paths:\n",
    "            path_dic.append([path,index])\n",
    "    \n",
    "    path_dic = pd.DataFrame(path_dic,columns = ['path','label'])\n",
    "    return path_dic"
   ]
  },
  {
   "cell_type": "code",
   "execution_count": 4,
   "id": "starting-spider",
   "metadata": {},
   "outputs": [
    {
     "name": "stdout",
     "output_type": "stream",
     "text": [
      "(9620, 2)\n"
     ]
    },
    {
     "data": {
      "text/html": [
       "<div>\n",
       "<style scoped>\n",
       "    .dataframe tbody tr th:only-of-type {\n",
       "        vertical-align: middle;\n",
       "    }\n",
       "\n",
       "    .dataframe tbody tr th {\n",
       "        vertical-align: top;\n",
       "    }\n",
       "\n",
       "    .dataframe thead th {\n",
       "        text-align: right;\n",
       "    }\n",
       "</style>\n",
       "<table border=\"1\" class=\"dataframe\">\n",
       "  <thead>\n",
       "    <tr style=\"text-align: right;\">\n",
       "      <th></th>\n",
       "      <th>path</th>\n",
       "      <th>label</th>\n",
       "    </tr>\n",
       "  </thead>\n",
       "  <tbody>\n",
       "    <tr>\n",
       "      <th>0</th>\n",
       "      <td>research_fishes/fold_011/fish_cod/66488f15-aff...</td>\n",
       "      <td>0</td>\n",
       "    </tr>\n",
       "    <tr>\n",
       "      <th>1</th>\n",
       "      <td>research_fishes/fold_011/fish_cod/1fd0d098-70e...</td>\n",
       "      <td>0</td>\n",
       "    </tr>\n",
       "    <tr>\n",
       "      <th>2</th>\n",
       "      <td>research_fishes/fold_011/fish_cod/0fbd916b-ea0...</td>\n",
       "      <td>0</td>\n",
       "    </tr>\n",
       "    <tr>\n",
       "      <th>3</th>\n",
       "      <td>research_fishes/fold_011/fish_cod/1ee49e38-ec2...</td>\n",
       "      <td>0</td>\n",
       "    </tr>\n",
       "    <tr>\n",
       "      <th>4</th>\n",
       "      <td>research_fishes/fold_011/fish_cod/1ee49e38-ec2...</td>\n",
       "      <td>0</td>\n",
       "    </tr>\n",
       "  </tbody>\n",
       "</table>\n",
       "</div>"
      ],
      "text/plain": [
       "                                                path  label\n",
       "0  research_fishes/fold_011/fish_cod/66488f15-aff...      0\n",
       "1  research_fishes/fold_011/fish_cod/1fd0d098-70e...      0\n",
       "2  research_fishes/fold_011/fish_cod/0fbd916b-ea0...      0\n",
       "3  research_fishes/fold_011/fish_cod/1ee49e38-ec2...      0\n",
       "4  research_fishes/fold_011/fish_cod/1ee49e38-ec2...      0"
      ]
     },
     "execution_count": 4,
     "metadata": {},
     "output_type": "execute_result"
    }
   ],
   "source": [
    "path_dic = generate_imgs_file('research_fishes')\n",
    "print(path_dic.shape)\n",
    "path_dic.head()"
   ]
  },
  {
   "cell_type": "code",
   "execution_count": 5,
   "id": "unexpected-deployment",
   "metadata": {},
   "outputs": [
    {
     "name": "stdout",
     "output_type": "stream",
     "text": [
      "(10057, 2)\n"
     ]
    },
    {
     "data": {
      "text/html": [
       "<div>\n",
       "<style scoped>\n",
       "    .dataframe tbody tr th:only-of-type {\n",
       "        vertical-align: middle;\n",
       "    }\n",
       "\n",
       "    .dataframe tbody tr th {\n",
       "        vertical-align: top;\n",
       "    }\n",
       "\n",
       "    .dataframe thead th {\n",
       "        text-align: right;\n",
       "    }\n",
       "</style>\n",
       "<table border=\"1\" class=\"dataframe\">\n",
       "  <thead>\n",
       "    <tr style=\"text-align: right;\">\n",
       "      <th></th>\n",
       "      <th>path</th>\n",
       "      <th>label</th>\n",
       "    </tr>\n",
       "  </thead>\n",
       "  <tbody>\n",
       "    <tr>\n",
       "      <th>0</th>\n",
       "      <td>commercial_fishes/fold_127/fish_cod/c3cc47ed-0...</td>\n",
       "      <td>0</td>\n",
       "    </tr>\n",
       "    <tr>\n",
       "      <th>1</th>\n",
       "      <td>commercial_fishes/fold_127/fish_cod/77e33edc-6...</td>\n",
       "      <td>0</td>\n",
       "    </tr>\n",
       "    <tr>\n",
       "      <th>2</th>\n",
       "      <td>commercial_fishes/fold_127/fish_cod/0158dd29-8...</td>\n",
       "      <td>0</td>\n",
       "    </tr>\n",
       "    <tr>\n",
       "      <th>3</th>\n",
       "      <td>commercial_fishes/fold_127/fish_cod/77e33edc-6...</td>\n",
       "      <td>0</td>\n",
       "    </tr>\n",
       "    <tr>\n",
       "      <th>4</th>\n",
       "      <td>commercial_fishes/fold_117/fish_cod/b19fca17-7...</td>\n",
       "      <td>0</td>\n",
       "    </tr>\n",
       "  </tbody>\n",
       "</table>\n",
       "</div>"
      ],
      "text/plain": [
       "                                                path  label\n",
       "0  commercial_fishes/fold_127/fish_cod/c3cc47ed-0...      0\n",
       "1  commercial_fishes/fold_127/fish_cod/77e33edc-6...      0\n",
       "2  commercial_fishes/fold_127/fish_cod/0158dd29-8...      0\n",
       "3  commercial_fishes/fold_127/fish_cod/77e33edc-6...      0\n",
       "4  commercial_fishes/fold_117/fish_cod/b19fca17-7...      0"
      ]
     },
     "execution_count": 5,
     "metadata": {},
     "output_type": "execute_result"
    }
   ],
   "source": [
    "path_dic2 = generate_imgs_file('commercial_fishes')\n",
    "print(path_dic2.shape)\n",
    "path_dic2.head()"
   ]
  },
  {
   "cell_type": "code",
   "execution_count": 6,
   "id": "silver-skating",
   "metadata": {},
   "outputs": [],
   "source": [
    "train_transform = A.Compose(\n",
    "    [\n",
    "        A.Affine(translate_px={\"x\":(-2,2),\"y\":(-2,2)}, scale = (0.75,1.333), rotate = (-75,75), p = 0.8),\n",
    "        A.CoarseDropout(max_holes=3, max_height=2, max_width=2, min_holes=1,fill_value=64, p = 0.5),\n",
    "        A.GaussNoise(var_limit = (10,300), p = 0.5),\n",
    "        #A.ColorJitter(brightness = (0.1,0.2), saturation = (0,0.2), p = 0.5),\n",
    "        \n",
    "        A.Normalize(\n",
    "            mean=[0.485, 0.456, 0.406],\n",
    "            std=[0.229, 0.224, 0.225]),\n",
    "        \n",
    "        ToTensorV2()\n",
    "    ],\n",
    ")\n",
    "val_transform = A.Compose(\n",
    "    [\n",
    "        A.Normalize(\n",
    "            mean=[0.485, 0.456, 0.406],\n",
    "            std=[0.229, 0.224, 0.225]),\n",
    "        ToTensorV2()\n",
    "    ],\n",
    ")"
   ]
  },
  {
   "cell_type": "code",
   "execution_count": 7,
   "id": "humanitarian-observation",
   "metadata": {},
   "outputs": [],
   "source": [
    "class MyDataset(Dataset): \n",
    "    def __init__(self, path_dic, transform=None):\n",
    "\n",
    "        self.imgs = list(path_dic.to_records(index=False))\n",
    "        self.transform = transform\n",
    "        \n",
    "    def __getitem__(self, index):\n",
    "        path, label = self.imgs[index]\n",
    "        \n",
    "        img = cv2.imread(path)\n",
    "        img = cv2.cvtColor(img, cv2.COLOR_BGR2RGB)\n",
    "        \n",
    "        if self.transform is not None:\n",
    "            img = self.transform(image=img)[\"image\"]\n",
    "\n",
    "        return img,label\n",
    "    \n",
    "    def __len__(self):\n",
    "        return len(self.imgs)"
   ]
  },
  {
   "cell_type": "code",
   "execution_count": 8,
   "id": "remarkable-punishment",
   "metadata": {},
   "outputs": [],
   "source": [
    "val_sour_size = 2000\n",
    "num_sour_train = len(path_dic2)\n",
    "sour_indices = list(range(num_sour_train))\n",
    "#split_ratio = 0.8\n",
    "#split = int(np.floor(train_size * num_train))\n",
    "np.random.shuffle(sour_indices)\n",
    "train_sour_idx, valid_sour_idx = sour_indices[val_sour_size:], sour_indices[:val_sour_size]"
   ]
  },
  {
   "cell_type": "code",
   "execution_count": 9,
   "id": "affiliated-refund",
   "metadata": {},
   "outputs": [],
   "source": [
    "train_dataset = MyDataset(path_dic2, transform = train_transform)\n",
    "train_dataset2 = MyDataset(path_dic2, transform = val_transform)\n",
    "val_dataset = MyDataset(path_dic, transform = val_transform)"
   ]
  },
  {
   "cell_type": "code",
   "execution_count": 10,
   "id": "sophisticated-worth",
   "metadata": {},
   "outputs": [
    {
     "name": "stderr",
     "output_type": "stream",
     "text": [
      "Clipping input data to the valid range for imshow with RGB data ([0..1] for floats or [0..255] for integers).\n"
     ]
    },
    {
     "data": {
      "text/plain": [
       "<matplotlib.image.AxesImage at 0x2ac92e061af0>"
      ]
     },
     "execution_count": 10,
     "metadata": {},
     "output_type": "execute_result"
    },
    {
     "data": {
      "image/png": "[encoded data removed]",
      "text/plain": [
       "<Figure size 432x288 with 1 Axes>"
      ]
     },
     "metadata": {
      "needs_background": "light"
     },
     "output_type": "display_data"
    }
   ],
   "source": [
    "import matplotlib.pyplot as plt\n",
    "plt.imshow(train_dataset[13][0].permute(1, 2, 0))"
   ]
  },
  {
   "cell_type": "code",
   "execution_count": 11,
   "id": "noticed-consent",
   "metadata": {},
   "outputs": [
    {
     "name": "stderr",
     "output_type": "stream",
     "text": [
      "Clipping input data to the valid range for imshow with RGB data ([0..1] for floats or [0..255] for integers).\n"
     ]
    },
    {
     "data": {
      "text/plain": [
       "<matplotlib.image.AxesImage at 0x2ac92e14d670>"
      ]
     },
     "execution_count": 11,
     "metadata": {},
     "output_type": "execute_result"
    },
    {
     "data": {
      "image/png": "[encoded data removed]",
      "text/plain": [
       "<Figure size 432x288 with 1 Axes>"
      ]
     },
     "metadata": {
      "needs_background": "light"
     },
     "output_type": "display_data"
    }
   ],
   "source": [
    "plt.imshow(val_dataset[13][0].permute(1, 2, 0))"
   ]
  },
  {
   "cell_type": "code",
   "execution_count": 12,
   "id": "broad-cleaners",
   "metadata": {},
   "outputs": [],
   "source": [
    "train_dataset = Subset(train_dataset, indices=train_sour_idx)\n",
    "train_dataset2 = Subset(train_dataset2, indices=valid_sour_idx)"
   ]
  },
  {
   "cell_type": "code",
   "execution_count": 13,
   "id": "behind-chocolate",
   "metadata": {},
   "outputs": [],
   "source": [
    "def getSampler(labels):\n",
    "    class_sample_count = np.unique(labels, return_counts=True)[1]\n",
    "    class_weights = 1./torch.tensor(class_sample_count, dtype=torch.float) \n",
    "    class_weights_all = class_weights[labels]\n",
    "    sampler = torch.utils.data.sampler.WeightedRandomSampler(\n",
    "    weights=class_weights_all,\n",
    "    num_samples=len(class_weights_all),\n",
    "    replacement=True\n",
    "    )\n",
    "    return sampler"
   ]
  },
  {
   "cell_type": "code",
   "execution_count": 14,
   "id": "promising-office",
   "metadata": {},
   "outputs": [],
   "source": [
    "sour_train_labels = []\n",
    "for train_index in train_dataset.indices:\n",
    "    sour_train_labels.append(train_dataset.dataset.imgs[train_index][1])\n",
    "sour_train_labels = torch.tensor(sour_train_labels)\n",
    "sour_sampler = getSampler(sour_train_labels)"
   ]
  },
  {
   "cell_type": "code",
   "execution_count": 15,
   "id": "retired-quick",
   "metadata": {},
   "outputs": [],
   "source": [
    "sour_train_dl = DataLoader(train_dataset, shuffle=False, batch_size=64, sampler=sour_sampler, num_workers = 1)\n",
    "sour_val_dl = DataLoader(train_dataset2, batch_size=32*2, num_workers = 1, pin_memory = True)\n",
    "targ_train_dl = DataLoader(val_dataset, batch_size=32*2, num_workers = 1, pin_memory = True)"
   ]
  },
  {
   "cell_type": "code",
   "execution_count": 19,
   "id": "defensive-bikini",
   "metadata": {},
   "outputs": [
    {
     "data": {
      "text/plain": [
       "(array([ 0.,  1.,  2.,  3.,  4.,  5.,  6.,  7.,  8.,  9., 10., 11., 12.]),\n",
       " array([578, 607, 624, 648, 612, 590, 612, 611, 672, 615, 640, 644, 604]))"
      ]
     },
     "execution_count": 19,
     "metadata": {},
     "output_type": "execute_result"
    }
   ],
   "source": [
    "#check sampler\n",
    "# subset_index = []\n",
    "# for i, j in sour_train_dl:\n",
    "#     subset_index = np.concatenate((subset_index, j.numpy()), axis=None)\n",
    "# a = np.unique(subset_index, return_counts=True)\n",
    "# a"
   ]
  },
  {
   "cell_type": "code",
   "execution_count": 16,
   "id": "vietnamese-segment",
   "metadata": {},
   "outputs": [],
   "source": [
    "import torch.nn as nn\n",
    "import torch.nn.functional as F"
   ]
  },
  {
   "cell_type": "code",
   "execution_count": 17,
   "id": "compact-carnival",
   "metadata": {},
   "outputs": [],
   "source": [
    "student = torchvision.models.resnet152(pretrained=True)\n",
    "student.fc = nn.Sequential(\n",
    "            nn.Linear(2048,1024),\n",
    "            nn.ReLU(),\n",
    "            nn.Linear(1024, 1024),\n",
    "            nn.ReLU(),\n",
    "            nn.Linear(1024,13)\n",
    ")"
   ]
  },
  {
   "cell_type": "code",
   "execution_count": 18,
   "id": "prescription-institution",
   "metadata": {},
   "outputs": [],
   "source": [
    "def get_default_device():\n",
    "    \"\"\" Set Device to GPU or CPU\"\"\"\n",
    "    if torch.cuda.is_available():\n",
    "        return torch.device('cuda')\n",
    "    else:\n",
    "        return torch.device('cpu')\n",
    "    \n",
    "\n",
    "def to_device(data, device):\n",
    "    \"Move data to the device\"\n",
    "    if isinstance(data,(list,tuple)):\n",
    "        return [to_device(x,device) for x in data]\n",
    "    return data.to(device,non_blocking = True)\n",
    "\n",
    "class DeviceDataLoader():\n",
    "    \"\"\" Wrap a dataloader to move data to a device \"\"\"\n",
    "    \n",
    "    def __init__(self, dl, device):\n",
    "        self.dl = dl\n",
    "        self.device = device\n",
    "    \n",
    "    def __iter__(self):\n",
    "        \"\"\" Yield a batch of data after moving it to device\"\"\"\n",
    "        for b in self.dl:\n",
    "            yield to_device(b,self.device)\n",
    "            \n",
    "    def __len__(self):\n",
    "        \"\"\" Number of batches \"\"\"\n",
    "        return len(self.dl)\n",
    "    "
   ]
  },
  {
   "cell_type": "code",
   "execution_count": 19,
   "id": "computational-diabetes",
   "metadata": {},
   "outputs": [
    {
     "data": {
      "text/plain": [
       "device(type='cuda')"
      ]
     },
     "execution_count": 19,
     "metadata": {},
     "output_type": "execute_result"
    }
   ],
   "source": [
    "import torch\n",
    "device = get_default_device()\n",
    "device"
   ]
  },
  {
   "cell_type": "code",
   "execution_count": 20,
   "id": "tested-white",
   "metadata": {},
   "outputs": [],
   "source": [
    "student = to_device(student, device)"
   ]
  },
  {
   "cell_type": "code",
   "execution_count": 21,
   "id": "occasional-hamburg",
   "metadata": {},
   "outputs": [],
   "source": [
    "sour_train_dl = DeviceDataLoader(sour_train_dl, device)\n",
    "targ_train_dl = DeviceDataLoader(targ_train_dl, device)\n",
    "sour_val_dl = DeviceDataLoader(sour_val_dl, device)"
   ]
  },
  {
   "cell_type": "code",
   "execution_count": 22,
   "id": "varied-associate",
   "metadata": {},
   "outputs": [
    {
     "name": "stdout",
     "output_type": "stream",
     "text": [
      "resnet 152 pretrain and 4 data argumentation remove color jitter learning rate 10-5,\n"
     ]
    }
   ],
   "source": [
    "log_file = \"TrainTargetOnly_logfile_03\"\n",
    "def logfile(text):\n",
    "    print(text)\n",
    "    if log_file is not None:\n",
    "        with open(log_file, 'a') as f:\n",
    "            f.write(text + '\\n')\n",
    "            f.flush()\n",
    "            f.close()\n",
    "logfile(\"resnet 152 pretrain and 4 data argumentation remove color jitter learning rate 10-5,\")"
   ]
  },
  {
   "cell_type": "code",
   "execution_count": 23,
   "id": "sublime-winter",
   "metadata": {},
   "outputs": [],
   "source": [
    "@torch.no_grad()\n",
    "def train_pred(X_sup):\n",
    "    student.eval()\n",
    "    return F.softmax(student(X_sup), dim=1).detach().cpu().numpy()\n",
    "\n",
    "@torch.no_grad()\n",
    "def f_eval_src(val_dl,num):\n",
    "\n",
    "    stu_num = 0\n",
    "    for X_sup, y_sup in val_dl:\n",
    "\n",
    "        y_pred_prob_stu = train_pred(X_sup)\n",
    "        y_pred_stu = np.argmax(y_pred_prob_stu, axis=1)\n",
    "\n",
    "        stu_num += float((y_pred_stu != y_sup.cpu().numpy()).sum())\n",
    "    return stu_num/num"
   ]
  },
  {
   "cell_type": "code",
   "execution_count": 24,
   "id": "smaller-python",
   "metadata": {},
   "outputs": [
    {
     "name": "stdout",
     "output_type": "stream",
     "text": [
      "Epoch 0 took 680.96s: TRAIN clf loss=2.308882,source dataset student ERR=59.850000%, target dataset student ERR=67.411642%,\n",
      "Epoch 1 took 650.91s: TRAIN clf loss=1.203745,source dataset student ERR=57.950000%, target dataset student ERR=56.382536%,\n",
      "Epoch 2 took 652.30s: TRAIN clf loss=0.700045,source dataset student ERR=43.250000%, target dataset student ERR=48.253638%,\n",
      "Epoch 3 took 645.37s: TRAIN clf loss=0.514572,source dataset student ERR=36.450000%, target dataset student ERR=41.850312%,\n",
      "Epoch 4 took 646.25s: TRAIN clf loss=0.421756,source dataset student ERR=26.200000%, target dataset student ERR=41.632017%,\n",
      "Epoch 5 took 650.23s: TRAIN clf loss=0.348593,source dataset student ERR=22.900000%, target dataset student ERR=39.573805%,\n",
      "Epoch 6 took 658.27s: TRAIN clf loss=0.318202,source dataset student ERR=24.500000%, target dataset student ERR=38.711019%,\n",
      "Epoch 7 took 634.90s: TRAIN clf loss=0.271924,source dataset student ERR=20.550000%, target dataset student ERR=37.525988%,\n",
      "Epoch 8 took 646.61s: TRAIN clf loss=0.245091,source dataset student ERR=18.800000%, target dataset student ERR=37.702703%,\n",
      "Epoch 9 took 629.13s: TRAIN clf loss=0.219237,source dataset student ERR=18.700000%, target dataset student ERR=35.405405%,\n",
      "Epoch 10 took 650.93s: TRAIN clf loss=0.194070,source dataset student ERR=20.050000%, target dataset student ERR=38.284823%,\n",
      "Epoch 11 took 625.31s: TRAIN clf loss=0.194932,source dataset student ERR=20.300000%, target dataset student ERR=35.540541%,\n",
      "Epoch 12 took 682.81s: TRAIN clf loss=0.174155,source dataset student ERR=15.600000%, target dataset student ERR=38.139293%,\n",
      "Epoch 13 took 654.95s: TRAIN clf loss=0.148867,source dataset student ERR=17.100000%, target dataset student ERR=40.062370%,\n",
      "Epoch 14 took 647.15s: TRAIN clf loss=0.138524,source dataset student ERR=17.250000%, target dataset student ERR=39.054054%,\n",
      "Epoch 15 took 634.66s: TRAIN clf loss=0.137565,source dataset student ERR=16.000000%, target dataset student ERR=38.721414%,\n",
      "Epoch 16 took 629.12s: TRAIN clf loss=0.128676,source dataset student ERR=17.200000%, target dataset student ERR=39.116424%,\n",
      "Epoch 17 took 606.98s: TRAIN clf loss=0.126883,source dataset student ERR=14.800000%, target dataset student ERR=39.875260%,\n",
      "Epoch 18 took 631.88s: TRAIN clf loss=0.107427,source dataset student ERR=16.550000%, target dataset student ERR=39.573805%,\n",
      "Epoch 19 took 624.51s: TRAIN clf loss=0.096902,source dataset student ERR=16.800000%, target dataset student ERR=36.694387%,\n",
      "Epoch 20 took 624.69s: TRAIN clf loss=0.110948,source dataset student ERR=14.150000%, target dataset student ERR=42.619543%,\n",
      "Epoch 21 took 618.46s: TRAIN clf loss=0.105250,source dataset student ERR=15.150000%, target dataset student ERR=38.846154%,\n",
      "Epoch 22 took 623.81s: TRAIN clf loss=0.097892,source dataset student ERR=15.500000%, target dataset student ERR=40.550936%,\n",
      "Epoch 23 took 620.89s: TRAIN clf loss=0.092109,source dataset student ERR=15.600000%, target dataset student ERR=37.037422%,\n",
      "Epoch 24 took 624.56s: TRAIN clf loss=0.084494,source dataset student ERR=14.350000%, target dataset student ERR=39.542620%,\n",
      "Epoch 25 took 634.27s: TRAIN clf loss=0.081148,source dataset student ERR=15.000000%, target dataset student ERR=38.856549%,\n",
      "Epoch 26 took 631.75s: TRAIN clf loss=0.075407,source dataset student ERR=14.900000%, target dataset student ERR=42.952183%,\n"
     ]
    },
    {
     "ename": "KeyboardInterrupt",
     "evalue": "",
     "output_type": "error",
     "traceback": [
      "\u001b[0;31m---------------------------------------------------------------------------\u001b[0m",
      "\u001b[0;31mKeyboardInterrupt\u001b[0m                         Traceback (most recent call last)",
      "\u001b[0;32m<ipython-input-24-7d97eb7b48b7>\u001b[0m in \u001b[0;36m<module>\u001b[0;34m\u001b[0m\n\u001b[1;32m     20\u001b[0m     \u001b[0mconf_mask_counts\u001b[0m \u001b[0;34m=\u001b[0m \u001b[0;36m0\u001b[0m\u001b[0;34m\u001b[0m\u001b[0;34m\u001b[0m\u001b[0m\n\u001b[1;32m     21\u001b[0m \u001b[0;34m\u001b[0m\u001b[0m\n\u001b[0;32m---> 22\u001b[0;31m     \u001b[0;32mfor\u001b[0m \u001b[0mbatch\u001b[0m \u001b[0;32min\u001b[0m \u001b[0msour_train_dl\u001b[0m\u001b[0;34m:\u001b[0m\u001b[0;34m\u001b[0m\u001b[0;34m\u001b[0m\u001b[0m\n\u001b[0m\u001b[1;32m     23\u001b[0m \u001b[0;34m\u001b[0m\u001b[0m\n\u001b[1;32m     24\u001b[0m         \u001b[0mX_src\u001b[0m\u001b[0;34m,\u001b[0m \u001b[0my_src\u001b[0m \u001b[0;34m=\u001b[0m \u001b[0mbatch\u001b[0m\u001b[0;34m\u001b[0m\u001b[0;34m\u001b[0m\u001b[0m\n",
      "\u001b[0;32m<ipython-input-18-3769b8ceba37>\u001b[0m in \u001b[0;36m__iter__\u001b[0;34m(self)\u001b[0m\n\u001b[1;32m     22\u001b[0m     \u001b[0;32mdef\u001b[0m \u001b[0m__iter__\u001b[0m\u001b[0;34m(\u001b[0m\u001b[0mself\u001b[0m\u001b[0;34m)\u001b[0m\u001b[0;34m:\u001b[0m\u001b[0;34m\u001b[0m\u001b[0;34m\u001b[0m\u001b[0m\n\u001b[1;32m     23\u001b[0m         \u001b[0;34m\"\"\" Yield a batch of data after moving it to device\"\"\"\u001b[0m\u001b[0;34m\u001b[0m\u001b[0;34m\u001b[0m\u001b[0m\n\u001b[0;32m---> 24\u001b[0;31m         \u001b[0;32mfor\u001b[0m \u001b[0mb\u001b[0m \u001b[0;32min\u001b[0m \u001b[0mself\u001b[0m\u001b[0;34m.\u001b[0m\u001b[0mdl\u001b[0m\u001b[0;34m:\u001b[0m\u001b[0;34m\u001b[0m\u001b[0;34m\u001b[0m\u001b[0m\n\u001b[0m\u001b[1;32m     25\u001b[0m             \u001b[0;32myield\u001b[0m \u001b[0mto_device\u001b[0m\u001b[0;34m(\u001b[0m\u001b[0mb\u001b[0m\u001b[0;34m,\u001b[0m\u001b[0mself\u001b[0m\u001b[0;34m.\u001b[0m\u001b[0mdevice\u001b[0m\u001b[0;34m)\u001b[0m\u001b[0;34m\u001b[0m\u001b[0;34m\u001b[0m\u001b[0m\n\u001b[1;32m     26\u001b[0m \u001b[0;34m\u001b[0m\u001b[0m\n",
      "\u001b[0;32m~/.conda/envs/zzh20scu/lib/python3.8/site-packages/torch/utils/data/dataloader.py\u001b[0m in \u001b[0;36m__next__\u001b[0;34m(self)\u001b[0m\n\u001b[1;32m    433\u001b[0m         \u001b[0;32mif\u001b[0m \u001b[0mself\u001b[0m\u001b[0;34m.\u001b[0m\u001b[0m_sampler_iter\u001b[0m \u001b[0;32mis\u001b[0m \u001b[0;32mNone\u001b[0m\u001b[0;34m:\u001b[0m\u001b[0;34m\u001b[0m\u001b[0;34m\u001b[0m\u001b[0m\n\u001b[1;32m    434\u001b[0m             \u001b[0mself\u001b[0m\u001b[0;34m.\u001b[0m\u001b[0m_reset\u001b[0m\u001b[0;34m(\u001b[0m\u001b[0;34m)\u001b[0m\u001b[0;34m\u001b[0m\u001b[0;34m\u001b[0m\u001b[0m\n\u001b[0;32m--> 435\u001b[0;31m         \u001b[0mdata\u001b[0m \u001b[0;34m=\u001b[0m \u001b[0mself\u001b[0m\u001b[0;34m.\u001b[0m\u001b[0m_next_data\u001b[0m\u001b[0;34m(\u001b[0m\u001b[0;34m)\u001b[0m\u001b[0;34m\u001b[0m\u001b[0;34m\u001b[0m\u001b[0m\n\u001b[0m\u001b[1;32m    436\u001b[0m         \u001b[0mself\u001b[0m\u001b[0;34m.\u001b[0m\u001b[0m_num_yielded\u001b[0m \u001b[0;34m+=\u001b[0m \u001b[0;36m1\u001b[0m\u001b[0;34m\u001b[0m\u001b[0;34m\u001b[0m\u001b[0m\n\u001b[1;32m    437\u001b[0m         \u001b[0;32mif\u001b[0m \u001b[0mself\u001b[0m\u001b[0;34m.\u001b[0m\u001b[0m_dataset_kind\u001b[0m \u001b[0;34m==\u001b[0m \u001b[0m_DatasetKind\u001b[0m\u001b[0;34m.\u001b[0m\u001b[0mIterable\u001b[0m \u001b[0;32mand\u001b[0m\u001b[0;31m \u001b[0m\u001b[0;31m\\\u001b[0m\u001b[0;34m\u001b[0m\u001b[0;34m\u001b[0m\u001b[0m\n",
      "\u001b[0;32m~/.conda/envs/zzh20scu/lib/python3.8/site-packages/torch/utils/data/dataloader.py\u001b[0m in \u001b[0;36m_next_data\u001b[0;34m(self)\u001b[0m\n\u001b[1;32m   1066\u001b[0m \u001b[0;34m\u001b[0m\u001b[0m\n\u001b[1;32m   1067\u001b[0m             \u001b[0;32massert\u001b[0m \u001b[0;32mnot\u001b[0m \u001b[0mself\u001b[0m\u001b[0;34m.\u001b[0m\u001b[0m_shutdown\u001b[0m \u001b[0;32mand\u001b[0m \u001b[0mself\u001b[0m\u001b[0;34m.\u001b[0m\u001b[0m_tasks_outstanding\u001b[0m \u001b[0;34m>\u001b[0m \u001b[0;36m0\u001b[0m\u001b[0;34m\u001b[0m\u001b[0;34m\u001b[0m\u001b[0m\n\u001b[0;32m-> 1068\u001b[0;31m             \u001b[0midx\u001b[0m\u001b[0;34m,\u001b[0m \u001b[0mdata\u001b[0m \u001b[0;34m=\u001b[0m \u001b[0mself\u001b[0m\u001b[0;34m.\u001b[0m\u001b[0m_get_data\u001b[0m\u001b[0;34m(\u001b[0m\u001b[0;34m)\u001b[0m\u001b[0;34m\u001b[0m\u001b[0;34m\u001b[0m\u001b[0m\n\u001b[0m\u001b[1;32m   1069\u001b[0m             \u001b[0mself\u001b[0m\u001b[0;34m.\u001b[0m\u001b[0m_tasks_outstanding\u001b[0m \u001b[0;34m-=\u001b[0m \u001b[0;36m1\u001b[0m\u001b[0;34m\u001b[0m\u001b[0;34m\u001b[0m\u001b[0m\n\u001b[1;32m   1070\u001b[0m             \u001b[0;32mif\u001b[0m \u001b[0mself\u001b[0m\u001b[0;34m.\u001b[0m\u001b[0m_dataset_kind\u001b[0m \u001b[0;34m==\u001b[0m \u001b[0m_DatasetKind\u001b[0m\u001b[0;34m.\u001b[0m\u001b[0mIterable\u001b[0m\u001b[0;34m:\u001b[0m\u001b[0;34m\u001b[0m\u001b[0;34m\u001b[0m\u001b[0m\n",
      "\u001b[0;32m~/.conda/envs/zzh20scu/lib/python3.8/site-packages/torch/utils/data/dataloader.py\u001b[0m in \u001b[0;36m_get_data\u001b[0;34m(self)\u001b[0m\n\u001b[1;32m   1032\u001b[0m         \u001b[0;32melse\u001b[0m\u001b[0;34m:\u001b[0m\u001b[0;34m\u001b[0m\u001b[0;34m\u001b[0m\u001b[0m\n\u001b[1;32m   1033\u001b[0m             \u001b[0;32mwhile\u001b[0m \u001b[0;32mTrue\u001b[0m\u001b[0;34m:\u001b[0m\u001b[0;34m\u001b[0m\u001b[0;34m\u001b[0m\u001b[0m\n\u001b[0;32m-> 1034\u001b[0;31m                 \u001b[0msuccess\u001b[0m\u001b[0;34m,\u001b[0m \u001b[0mdata\u001b[0m \u001b[0;34m=\u001b[0m \u001b[0mself\u001b[0m\u001b[0;34m.\u001b[0m\u001b[0m_try_get_data\u001b[0m\u001b[0;34m(\u001b[0m\u001b[0;34m)\u001b[0m\u001b[0;34m\u001b[0m\u001b[0;34m\u001b[0m\u001b[0m\n\u001b[0m\u001b[1;32m   1035\u001b[0m                 \u001b[0;32mif\u001b[0m \u001b[0msuccess\u001b[0m\u001b[0;34m:\u001b[0m\u001b[0;34m\u001b[0m\u001b[0;34m\u001b[0m\u001b[0m\n\u001b[1;32m   1036\u001b[0m                     \u001b[0;32mreturn\u001b[0m \u001b[0mdata\u001b[0m\u001b[0;34m\u001b[0m\u001b[0;34m\u001b[0m\u001b[0m\n",
      "\u001b[0;32m~/.conda/envs/zzh20scu/lib/python3.8/site-packages/torch/utils/data/dataloader.py\u001b[0m in \u001b[0;36m_try_get_data\u001b[0;34m(self, timeout)\u001b[0m\n\u001b[1;32m    870\u001b[0m         \u001b[0;31m#   (bool: whether successfully get data, any: data if successful else None)\u001b[0m\u001b[0;34m\u001b[0m\u001b[0;34m\u001b[0m\u001b[0;34m\u001b[0m\u001b[0m\n\u001b[1;32m    871\u001b[0m         \u001b[0;32mtry\u001b[0m\u001b[0;34m:\u001b[0m\u001b[0;34m\u001b[0m\u001b[0;34m\u001b[0m\u001b[0m\n\u001b[0;32m--> 872\u001b[0;31m             \u001b[0mdata\u001b[0m \u001b[0;34m=\u001b[0m \u001b[0mself\u001b[0m\u001b[0;34m.\u001b[0m\u001b[0m_data_queue\u001b[0m\u001b[0;34m.\u001b[0m\u001b[0mget\u001b[0m\u001b[0;34m(\u001b[0m\u001b[0mtimeout\u001b[0m\u001b[0;34m=\u001b[0m\u001b[0mtimeout\u001b[0m\u001b[0;34m)\u001b[0m\u001b[0;34m\u001b[0m\u001b[0;34m\u001b[0m\u001b[0m\n\u001b[0m\u001b[1;32m    873\u001b[0m             \u001b[0;32mreturn\u001b[0m \u001b[0;34m(\u001b[0m\u001b[0;32mTrue\u001b[0m\u001b[0;34m,\u001b[0m \u001b[0mdata\u001b[0m\u001b[0;34m)\u001b[0m\u001b[0;34m\u001b[0m\u001b[0;34m\u001b[0m\u001b[0m\n\u001b[1;32m    874\u001b[0m         \u001b[0;32mexcept\u001b[0m \u001b[0mException\u001b[0m \u001b[0;32mas\u001b[0m \u001b[0me\u001b[0m\u001b[0;34m:\u001b[0m\u001b[0;34m\u001b[0m\u001b[0;34m\u001b[0m\u001b[0m\n",
      "\u001b[0;32m~/.conda/envs/zzh20scu/lib/python3.8/multiprocessing/queues.py\u001b[0m in \u001b[0;36mget\u001b[0;34m(self, block, timeout)\u001b[0m\n\u001b[1;32m    105\u001b[0m                 \u001b[0;32mif\u001b[0m \u001b[0mblock\u001b[0m\u001b[0;34m:\u001b[0m\u001b[0;34m\u001b[0m\u001b[0;34m\u001b[0m\u001b[0m\n\u001b[1;32m    106\u001b[0m                     \u001b[0mtimeout\u001b[0m \u001b[0;34m=\u001b[0m \u001b[0mdeadline\u001b[0m \u001b[0;34m-\u001b[0m \u001b[0mtime\u001b[0m\u001b[0;34m.\u001b[0m\u001b[0mmonotonic\u001b[0m\u001b[0;34m(\u001b[0m\u001b[0;34m)\u001b[0m\u001b[0;34m\u001b[0m\u001b[0;34m\u001b[0m\u001b[0m\n\u001b[0;32m--> 107\u001b[0;31m                     \u001b[0;32mif\u001b[0m \u001b[0;32mnot\u001b[0m \u001b[0mself\u001b[0m\u001b[0;34m.\u001b[0m\u001b[0m_poll\u001b[0m\u001b[0;34m(\u001b[0m\u001b[0mtimeout\u001b[0m\u001b[0;34m)\u001b[0m\u001b[0;34m:\u001b[0m\u001b[0;34m\u001b[0m\u001b[0;34m\u001b[0m\u001b[0m\n\u001b[0m\u001b[1;32m    108\u001b[0m                         \u001b[0;32mraise\u001b[0m \u001b[0mEmpty\u001b[0m\u001b[0;34m\u001b[0m\u001b[0;34m\u001b[0m\u001b[0m\n\u001b[1;32m    109\u001b[0m                 \u001b[0;32melif\u001b[0m \u001b[0;32mnot\u001b[0m \u001b[0mself\u001b[0m\u001b[0;34m.\u001b[0m\u001b[0m_poll\u001b[0m\u001b[0;34m(\u001b[0m\u001b[0;34m)\u001b[0m\u001b[0;34m:\u001b[0m\u001b[0;34m\u001b[0m\u001b[0;34m\u001b[0m\u001b[0m\n",
      "\u001b[0;32m~/.conda/envs/zzh20scu/lib/python3.8/multiprocessing/connection.py\u001b[0m in \u001b[0;36mpoll\u001b[0;34m(self, timeout)\u001b[0m\n\u001b[1;32m    255\u001b[0m         \u001b[0mself\u001b[0m\u001b[0;34m.\u001b[0m\u001b[0m_check_closed\u001b[0m\u001b[0;34m(\u001b[0m\u001b[0;34m)\u001b[0m\u001b[0;34m\u001b[0m\u001b[0;34m\u001b[0m\u001b[0m\n\u001b[1;32m    256\u001b[0m         \u001b[0mself\u001b[0m\u001b[0;34m.\u001b[0m\u001b[0m_check_readable\u001b[0m\u001b[0;34m(\u001b[0m\u001b[0;34m)\u001b[0m\u001b[0;34m\u001b[0m\u001b[0;34m\u001b[0m\u001b[0m\n\u001b[0;32m--> 257\u001b[0;31m         \u001b[0;32mreturn\u001b[0m \u001b[0mself\u001b[0m\u001b[0;34m.\u001b[0m\u001b[0m_poll\u001b[0m\u001b[0;34m(\u001b[0m\u001b[0mtimeout\u001b[0m\u001b[0;34m)\u001b[0m\u001b[0;34m\u001b[0m\u001b[0;34m\u001b[0m\u001b[0m\n\u001b[0m\u001b[1;32m    258\u001b[0m \u001b[0;34m\u001b[0m\u001b[0m\n\u001b[1;32m    259\u001b[0m     \u001b[0;32mdef\u001b[0m \u001b[0m__enter__\u001b[0m\u001b[0;34m(\u001b[0m\u001b[0mself\u001b[0m\u001b[0;34m)\u001b[0m\u001b[0;34m:\u001b[0m\u001b[0;34m\u001b[0m\u001b[0;34m\u001b[0m\u001b[0m\n",
      "\u001b[0;32m~/.conda/envs/zzh20scu/lib/python3.8/multiprocessing/connection.py\u001b[0m in \u001b[0;36m_poll\u001b[0;34m(self, timeout)\u001b[0m\n\u001b[1;32m    422\u001b[0m \u001b[0;34m\u001b[0m\u001b[0m\n\u001b[1;32m    423\u001b[0m     \u001b[0;32mdef\u001b[0m \u001b[0m_poll\u001b[0m\u001b[0;34m(\u001b[0m\u001b[0mself\u001b[0m\u001b[0;34m,\u001b[0m \u001b[0mtimeout\u001b[0m\u001b[0;34m)\u001b[0m\u001b[0;34m:\u001b[0m\u001b[0;34m\u001b[0m\u001b[0;34m\u001b[0m\u001b[0m\n\u001b[0;32m--> 424\u001b[0;31m         \u001b[0mr\u001b[0m \u001b[0;34m=\u001b[0m \u001b[0mwait\u001b[0m\u001b[0;34m(\u001b[0m\u001b[0;34m[\u001b[0m\u001b[0mself\u001b[0m\u001b[0;34m]\u001b[0m\u001b[0;34m,\u001b[0m \u001b[0mtimeout\u001b[0m\u001b[0;34m)\u001b[0m\u001b[0;34m\u001b[0m\u001b[0;34m\u001b[0m\u001b[0m\n\u001b[0m\u001b[1;32m    425\u001b[0m         \u001b[0;32mreturn\u001b[0m \u001b[0mbool\u001b[0m\u001b[0;34m(\u001b[0m\u001b[0mr\u001b[0m\u001b[0;34m)\u001b[0m\u001b[0;34m\u001b[0m\u001b[0;34m\u001b[0m\u001b[0m\n\u001b[1;32m    426\u001b[0m \u001b[0;34m\u001b[0m\u001b[0m\n",
      "\u001b[0;32m~/.conda/envs/zzh20scu/lib/python3.8/multiprocessing/connection.py\u001b[0m in \u001b[0;36mwait\u001b[0;34m(object_list, timeout)\u001b[0m\n\u001b[1;32m    929\u001b[0m \u001b[0;34m\u001b[0m\u001b[0m\n\u001b[1;32m    930\u001b[0m             \u001b[0;32mwhile\u001b[0m \u001b[0;32mTrue\u001b[0m\u001b[0;34m:\u001b[0m\u001b[0;34m\u001b[0m\u001b[0;34m\u001b[0m\u001b[0m\n\u001b[0;32m--> 931\u001b[0;31m                 \u001b[0mready\u001b[0m \u001b[0;34m=\u001b[0m \u001b[0mselector\u001b[0m\u001b[0;34m.\u001b[0m\u001b[0mselect\u001b[0m\u001b[0;34m(\u001b[0m\u001b[0mtimeout\u001b[0m\u001b[0;34m)\u001b[0m\u001b[0;34m\u001b[0m\u001b[0;34m\u001b[0m\u001b[0m\n\u001b[0m\u001b[1;32m    932\u001b[0m                 \u001b[0;32mif\u001b[0m \u001b[0mready\u001b[0m\u001b[0;34m:\u001b[0m\u001b[0;34m\u001b[0m\u001b[0;34m\u001b[0m\u001b[0m\n\u001b[1;32m    933\u001b[0m                     \u001b[0;32mreturn\u001b[0m \u001b[0;34m[\u001b[0m\u001b[0mkey\u001b[0m\u001b[0;34m.\u001b[0m\u001b[0mfileobj\u001b[0m \u001b[0;32mfor\u001b[0m \u001b[0;34m(\u001b[0m\u001b[0mkey\u001b[0m\u001b[0;34m,\u001b[0m \u001b[0mevents\u001b[0m\u001b[0;34m)\u001b[0m \u001b[0;32min\u001b[0m \u001b[0mready\u001b[0m\u001b[0;34m]\u001b[0m\u001b[0;34m\u001b[0m\u001b[0;34m\u001b[0m\u001b[0m\n",
      "\u001b[0;32m~/.conda/envs/zzh20scu/lib/python3.8/selectors.py\u001b[0m in \u001b[0;36mselect\u001b[0;34m(self, timeout)\u001b[0m\n\u001b[1;32m    413\u001b[0m         \u001b[0mready\u001b[0m \u001b[0;34m=\u001b[0m \u001b[0;34m[\u001b[0m\u001b[0;34m]\u001b[0m\u001b[0;34m\u001b[0m\u001b[0;34m\u001b[0m\u001b[0m\n\u001b[1;32m    414\u001b[0m         \u001b[0;32mtry\u001b[0m\u001b[0;34m:\u001b[0m\u001b[0;34m\u001b[0m\u001b[0;34m\u001b[0m\u001b[0m\n\u001b[0;32m--> 415\u001b[0;31m             \u001b[0mfd_event_list\u001b[0m \u001b[0;34m=\u001b[0m \u001b[0mself\u001b[0m\u001b[0;34m.\u001b[0m\u001b[0m_selector\u001b[0m\u001b[0;34m.\u001b[0m\u001b[0mpoll\u001b[0m\u001b[0;34m(\u001b[0m\u001b[0mtimeout\u001b[0m\u001b[0;34m)\u001b[0m\u001b[0;34m\u001b[0m\u001b[0;34m\u001b[0m\u001b[0m\n\u001b[0m\u001b[1;32m    416\u001b[0m         \u001b[0;32mexcept\u001b[0m \u001b[0mInterruptedError\u001b[0m\u001b[0;34m:\u001b[0m\u001b[0;34m\u001b[0m\u001b[0;34m\u001b[0m\u001b[0m\n\u001b[1;32m    417\u001b[0m             \u001b[0;32mreturn\u001b[0m \u001b[0mready\u001b[0m\u001b[0;34m\u001b[0m\u001b[0;34m\u001b[0m\u001b[0m\n",
      "\u001b[0;31mKeyboardInterrupt\u001b[0m: "
     ]
    }
   ],
   "source": [
    "epochs = 100\n",
    "opt_func = torch.optim.Adam\n",
    "lr = 0.00001\n",
    "\n",
    "optimizer = opt_func(student.parameters(),lr)\n",
    "\n",
    "import time\n",
    "\n",
    "loss_his1 = []\n",
    "\n",
    "log=[]\n",
    "log1=[]\n",
    "\n",
    "for epoch in range(epochs):\n",
    "\n",
    "    t1 = time.time()\n",
    "    \n",
    "    student.train()\n",
    "    train_losses = []\n",
    "    conf_mask_counts = 0\n",
    "    \n",
    "    for batch in sour_train_dl:\n",
    "        \n",
    "        X_src, y_src = batch\n",
    "        src_logits_out = student(X_src)\n",
    "        loss = F.cross_entropy(src_logits_out, y_src)\n",
    "        \n",
    "        train_losses.append(loss)\n",
    "        \n",
    "        loss.backward()\n",
    "        optimizer.step()\n",
    "        optimizer.zero_grad()\n",
    "\n",
    "    \n",
    "    log.append(f_eval_src(targ_train_dl,len(val_dataset)))\n",
    "    log1.append(f_eval_src(sour_val_dl,len(train_dataset2)))\n",
    "\n",
    "    loss_his1.append(torch.stack(train_losses).mean().item())\n",
    "    \n",
    "    t2 = time.time()\n",
    "                                                 \n",
    "    logfile('Epoch {} took {:.2f}s: TRAIN clf loss={:.6f},'\n",
    "        'source dataset student ERR={:.6%}, target dataset student ERR={:.6%},'.format(\n",
    "         epoch, t2 - t1, loss_his1[epoch], log1[epoch], log[epoch]))  \n",
    "    \n",
    "    if epoch%20 == 0 and epoch != 0:\n",
    "        model_name = \"TrainSourceOnly02\"\n",
    "        torch.save(student.state_dict(), model_name + \"student\")\n",
    "        #torch.save(teacher.state_dict(), model_name + \"teacher\")\n",
    "    "
   ]
  },
  {
   "cell_type": "code",
   "execution_count": null,
   "id": "aquatic-cedar",
   "metadata": {},
   "outputs": [],
   "source": []
  },
  {
   "cell_type": "code",
   "execution_count": 38,
   "id": "enabling-physics",
   "metadata": {},
   "outputs": [],
   "source": []
  },
  {
   "cell_type": "code",
   "execution_count": 38,
   "id": "drawn-delicious",
   "metadata": {},
   "outputs": [],
   "source": []
  },
  {
   "cell_type": "code",
   "execution_count": 38,
   "id": "eight-representative",
   "metadata": {},
   "outputs": [],
   "source": []
  },
  {
   "cell_type": "code",
   "execution_count": null,
   "id": "light-indication",
   "metadata": {},
   "outputs": [],
   "source": []
  },
  {
   "cell_type": "code",
   "execution_count": null,
   "id": "alpha-protocol",
   "metadata": {},
   "outputs": [],
   "source": []
  },
  {
   "cell_type": "code",
   "execution_count": null,
   "id": "infinite-skating",
   "metadata": {},
   "outputs": [],
   "source": []
  },
  {
   "cell_type": "code",
   "execution_count": null,
   "id": "reserved-title",
   "metadata": {},
   "outputs": [],
   "source": []
  },
  {
   "cell_type": "code",
   "execution_count": null,
   "id": "wireless-ontario",
   "metadata": {},
   "outputs": [],
   "source": []
  }
 ],
 "metadata": {
  "kernelspec": {
   "display_name": "Python 3",
   "language": "python",
   "name": "python3"
  },
  "language_info": {
   "codemirror_mode": {
    "name": "ipython",
    "version": 3
   },
   "file_extension": ".py",
   "mimetype": "text/x-python",
   "name": "python",
   "nbconvert_exporter": "python",
   "pygments_lexer": "ipython3",
   "version": "3.7.3"
  }
 },
 "nbformat": 4,
 "nbformat_minor": 5
}
